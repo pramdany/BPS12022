{
  "cells": [
    {
      "cell_type": "markdown",
      "metadata": {
        "id": "view-in-github",
        "colab_type": "text"
      },
      "source": [
        "<a href=\"https://colab.research.google.com/github/pramdany/BWTS12022/blob/Week-2/sundae_winner.ipynb\" target=\"_parent\"><img src=\"https://colab.research.google.com/assets/colab-badge.svg\" alt=\"Open In Colab\"/></a>"
      ]
    },
    {
      "cell_type": "markdown",
      "metadata": {
        "id": "Z8lc5lPfpxup"
      },
      "source": [
        "# Sundae Winner \n",
        "\n",
        "Other than (maybe) in the lectures, we haven't done any programing. Even so, Python doesn't look that hard. Below is the Python code we saw last week from Sharpen_Pencil.PDF. Perform the tasks below. If you get stuckm don't worry, we will go thorough the answers.\n",
        "\n",
        "### Task 0 - Run the program\n",
        "\n",
        "To make sure you understand what is happening, try running the cod a few times.\n",
        "\n",
        "``` To run the code, click insode the cell and either click the 'play' icon or hit shift+enter together``` \n",
        "\n",
        "\n",
        "### Task 1 - Understanding input\n",
        "\n",
        "Which of the following will give you a cherry on top? What happens if when the program asks (prompts) you for a cherry on top you type (notice the different uppercase letters in the input): \n",
        "\n",
        "1. Yes\n",
        "2. yeS\n",
        "3. YES\n",
        "4. yes\n",
        "5. no\n",
        "6. NO\n",
        "\n",
        "#####Answer: Only the 4th option 'yes' will provide an output and the others will skip the statement. \n",
        "### Task 2 - editing a program\n",
        "\n",
        "Other than in the lectures, we haven't done any programing. Even so, Python doesn;t look that hard.  Try to make the following following changes, if you get stuckm don;t worry, your lecturer will go thorough the answers:\n",
        "* Change 'Stacie' to 'Stacy'\n",
        "* Add your name to the list\n",
        "\n",
        "### Task 3 - Workflow\n",
        "\n",
        "After each change, rerun the program to make sure the chages has bene applied. When you have the change has worked, save the notebook to GitHub.\n",
        "\n",
        "Here is our workflow\n",
        "* Open/Create/import notebook into Colab\n",
        "* Make sure notebook has meaningfuly name\n",
        "* Design, edit make changest in Colab Tab\n",
        "* Save regulary to GitHub (close GitHub window after save)\n",
        "* Continue with edits in the colab tab.\n",
        "\n",
        "\n",
        "\n",
        "# The Program itself \n",
        "\n",
        "We will talk more about the ```import``` statement later lecture, but briefly it is a way of letting you use code from elsewhere.  We call this process ```import``` and the code form else where is bundled into a package or modules.    So in the following, some programmer worked out how to get the comuter to generate random numbers, and put this into a module called ```random```.  Since we want to use use we need to ```import``` the module."
      ]
    },
    {
      "cell_type": "code",
      "execution_count": 5,
      "metadata": {
        "colab": {
          "base_uri": "https://localhost:8080/"
        },
        "id": "y4lK6jddpTME",
        "outputId": "3b72fdca-dc23-4e78-bef9-2ecac437652e"
      },
      "outputs": [
        {
          "output_type": "stream",
          "name": "stdout",
          "text": [
            "Congratulations Pramesh you have won an ice cream sundae!\n",
            "Would you like a cherry on top? yes\n",
            "One vanilla sundae  with a cherry on top for Pramesh coming right up...\n"
          ]
        }
      ],
      "source": [
        "import random\n",
        "\n",
        "customers =  ['Jimmy', 'Kim', 'John', 'Stacy','Pramesh']\n",
        "\n",
        "winner = random.choice(customers)\n",
        "\n",
        "flavor = 'vanilla'\n",
        "\n",
        "print('Congratulations ' + winner +\n",
        " ' you have won an ice cream sundae!')\n",
        "\n",
        "prompt = 'Would you like a cherry on top? '\n",
        "\n",
        "wants_cherry = input(prompt)\n",
        "\n",
        "order = flavor + ' sundae '\n",
        "\n",
        "if (wants_cherry == 'yes'):\n",
        " order = order + ' with a cherry on top'\n",
        "\n",
        "print('One ' + order + ' for ' + winner +\n",
        " ' coming right up...')"
      ]
    },
    {
      "cell_type": "markdown",
      "metadata": {
        "id": "HrxSqDWcv456"
      },
      "source": [
        "### Task 4 - Multiple winners\n",
        "\n",
        "No coding is required for this task, this is a thiking exercise where you can write your ideas down.  We are not worried  about how to do it specifically in Python. It is more important to think about what needs to be done. Google, StackOverflow, Books, etc., will help with the how. The hard part is working out the what (Problem-solving).\n",
        "\n",
        "How could the program to have two people win a sundae?  What steps need to be added?   "
      ]
    },
    {
      "cell_type": "code",
      "execution_count": 6,
      "metadata": {
        "colab": {
          "base_uri": "https://localhost:8080/"
        },
        "id": "gJF7dKtxtYMn",
        "outputId": "ed83f510-e03d-4f02-9b3a-250f243e07ef"
      },
      "outputs": [
        {
          "output_type": "stream",
          "name": "stdout",
          "text": [
            "Congratulations John you have won an ice cream sundae!\n",
            "Would you like a cherry on top? yes\n",
            "One vanilla sundae  with a cherry on top for John coming right up...\n",
            "Congratulations Stacy you have won an ice cream sundae!\n",
            "Would you like a cherry on top? yes\n",
            "One vanilla sundae  with a cherry on top for Stacy coming right up...\n"
          ]
        }
      ],
      "source": [
        "import random\n",
        "\n",
        "customers =  ['Jimmy', 'Kim', 'John', 'Stacy','Pramesh']\n",
        "\n",
        "winner1 = random.choice(customers)\n",
        "\n",
        "flavor = 'vanilla'\n",
        "\n",
        "print('Congratulations ' + winner1 +\n",
        " ' you have won an ice cream sundae!')\n",
        "\n",
        "prompt = 'Would you like a cherry on top? '\n",
        "\n",
        "wants_cherry1 = input(prompt)\n",
        "\n",
        "order1 = flavor + ' sundae '\n",
        "\n",
        "if (wants_cherry1 == 'yes'):\n",
        " order1 = order1 + ' with a cherry on top'\n",
        "\n",
        "print('One ' + order1 + ' for ' + winner1 +\n",
        " ' coming right up...')\n",
        "\n",
        "winner2 = random.choice(customers)\n",
        "\n",
        "print('Congratulations ' + winner2 +\n",
        " ' you have won an ice cream sundae!')\n",
        "\n",
        "prompt = 'Would you like a cherry on top? '\n",
        "\n",
        "wants_cherry2 = input(prompt)\n",
        "\n",
        "order2 = flavor + ' sundae '\n",
        "\n",
        "if (wants_cherry2 == 'yes'):\n",
        " order2 = order2 + ' with a cherry on top'\n",
        "\n",
        "print('One ' + order2 + ' for ' + winner2 +\n",
        " ' coming right up...')"
      ]
    },
    {
      "cell_type": "markdown",
      "metadata": {
        "id": "U9m5bnR_FyP6"
      },
      "source": [
        "Use 2 variables namely winner 1 and winner 2 and their respective prompts. Once a winner is chosen, the latter should be removed from the list. After the prompts, the correct output message should be displayed. Also for the variable order, want_cherry and winner, another variable can be created to avoid data being overridden. "
      ]
    }
  ],
  "metadata": {
    "colab": {
      "collapsed_sections": [],
      "name": "sundae_winner.ipynb",
      "provenance": [],
      "include_colab_link": true
    },
    "kernelspec": {
      "display_name": "Python 3",
      "name": "python3"
    },
    "language_info": {
      "name": "python"
    }
  },
  "nbformat": 4,
  "nbformat_minor": 0
}