{
  "nbformat": 4,
  "nbformat_minor": 0,
  "metadata": {
    "colab": {
      "name": "using_my_math.ipynb",
      "provenance": [],
      "include_colab_link": true
    },
    "kernelspec": {
      "name": "python3",
      "display_name": "Python 3"
    },
    "language_info": {
      "name": "python"
    }
  },
  "cells": [
    {
      "cell_type": "markdown",
      "metadata": {
        "id": "view-in-github",
        "colab_type": "text"
      },
      "source": [
        "<a href=\"https://colab.research.google.com/github/pramdany/BWTS12022/blob/Week-5/using_my_math.ipynb\" target=\"_parent\"><img src=\"https://colab.research.google.com/assets/colab-badge.svg\" alt=\"Open In Colab\"/></a>"
      ]
    },
    {
      "cell_type": "markdown",
      "source": [
        "# Test Module: my_math.ipynb\n",
        "\n",
        "In this notebook, write some code to test the functions in *my_math.ipynb* by importing the file as python module. *my_math.ipynb* has some basic arithmetic functions in it.\n",
        "\n",
        "We will try importing as a python script and as a notebook.\n",
        "\n",
        "## Task 0 - Import this notebook to GitHub\n",
        "Save the notebook to your local GitHub repository.\n",
        "\n",
        "## Task 1 - Import as a Python script\n",
        "To do this you will need to:\n",
        "* open my_math.ipynb from the ISYS2001 Worksheets repository\n",
        "* download/save as my_math.py\n",
        "* from this notebook upload my_math.py.  This will put it in the same folder as this notebook.\n",
        "* Import the my_math module\n",
        "\n",
        "    import my_math\n",
        "* write some code to test the functions in my_math module"
      ],
      "metadata": {
        "id": "pM6Ipzg-fJzT"
      }
    },
    {
      "cell_type": "code",
      "execution_count": 6,
      "metadata": {
        "id": "vc2SBxd8fDyE",
        "colab": {
          "base_uri": "https://localhost:8080/"
        },
        "outputId": "78bcbd70-5c04-4e85-e0af-a2dfed5e63be"
      },
      "outputs": [
        {
          "output_type": "execute_result",
          "data": {
            "text/plain": [
              "7"
            ]
          },
          "metadata": {},
          "execution_count": 6
        }
      ],
      "source": [
        "import my_math\n",
        "my_math.add(3,4)"
      ]
    },
    {
      "cell_type": "code",
      "source": [
        "my_math.multiply(10,2)"
      ],
      "metadata": {
        "colab": {
          "base_uri": "https://localhost:8080/"
        },
        "id": "0gQD2Zr0AJbF",
        "outputId": "982281b4-e8b4-4569-ba1d-22a1fd663e6c"
      },
      "execution_count": 7,
      "outputs": [
        {
          "output_type": "execute_result",
          "data": {
            "text/plain": [
              "20"
            ]
          },
          "metadata": {},
          "execution_count": 7
        }
      ]
    },
    {
      "cell_type": "code",
      "source": [
        "my_math.divide(10,2)"
      ],
      "metadata": {
        "colab": {
          "base_uri": "https://localhost:8080/"
        },
        "id": "LYe1NGvXAbis",
        "outputId": "5b727660-312a-446b-b82b-d4cf475fdca2"
      },
      "execution_count": 8,
      "outputs": [
        {
          "output_type": "execute_result",
          "data": {
            "text/plain": [
              "5.0"
            ]
          },
          "metadata": {},
          "execution_count": 8
        }
      ]
    },
    {
      "cell_type": "code",
      "source": [
        "my_math.subtract(2,1)"
      ],
      "metadata": {
        "colab": {
          "base_uri": "https://localhost:8080/"
        },
        "id": "NqKRB5YXAg__",
        "outputId": "6a215a99-f79d-4ccd-d825-4ac1dea504db"
      },
      "execution_count": 9,
      "outputs": [
        {
          "output_type": "execute_result",
          "data": {
            "text/plain": [
              "1"
            ]
          },
          "metadata": {},
          "execution_count": 9
        }
      ]
    },
    {
      "cell_type": "markdown",
      "source": [
        "## Task 2 - Import as a Notebook\n",
        "\n",
        "To do this you will need:\n",
        "* intall margo loader\n",
        "* open my_math.ipynb from the ISYS2001 Worksheets repository\n",
        "* download as a notebook my_math.ipynb\n",
        "* from this notebook upload my_math.ipynb.  This will put it in the same folder as this notebook.\n",
        "* import the notebook\n",
        "    import margo_loader\n",
        "    import my_math\n",
        "\n",
        "* Wrtie some code to test the functions in my_math notebook \n"
      ],
      "metadata": {
        "id": "3mChsfz3hbv2"
      }
    },
    {
      "cell_type": "code",
      "source": [
        "!pip -q install margo-loader"
      ],
      "metadata": {
        "id": "QOOQhfvIiOss",
        "colab": {
          "base_uri": "https://localhost:8080/"
        },
        "outputId": "d42a14dd-9b07-4ac7-b492-06a6f72ba267"
      },
      "execution_count": 2,
      "outputs": [
        {
          "output_type": "stream",
          "name": "stdout",
          "text": [
            "\u001b[?25l\r\u001b[K     |██                              | 10 kB 25.1 MB/s eta 0:00:01\r\u001b[K     |███▉                            | 20 kB 35.7 MB/s eta 0:00:01\r\u001b[K     |█████▊                          | 30 kB 46.4 MB/s eta 0:00:01\r\u001b[K     |███████▊                        | 40 kB 35.2 MB/s eta 0:00:01\r\u001b[K     |█████████▋                      | 51 kB 17.0 MB/s eta 0:00:01\r\u001b[K     |███████████▌                    | 61 kB 19.0 MB/s eta 0:00:01\r\u001b[K     |█████████████▍                  | 71 kB 15.7 MB/s eta 0:00:01\r\u001b[K     |███████████████▍                | 81 kB 14.4 MB/s eta 0:00:01\r\u001b[K     |█████████████████▎              | 92 kB 15.6 MB/s eta 0:00:01\r\u001b[K     |███████████████████▏            | 102 kB 17.0 MB/s eta 0:00:01\r\u001b[K     |█████████████████████▏          | 112 kB 17.0 MB/s eta 0:00:01\r\u001b[K     |███████████████████████         | 122 kB 17.0 MB/s eta 0:00:01\r\u001b[K     |█████████████████████████       | 133 kB 17.0 MB/s eta 0:00:01\r\u001b[K     |██████████████████████████▉     | 143 kB 17.0 MB/s eta 0:00:01\r\u001b[K     |████████████████████████████▉   | 153 kB 17.0 MB/s eta 0:00:01\r\u001b[K     |██████████████████████████████▊ | 163 kB 17.0 MB/s eta 0:00:01\r\u001b[K     |████████████████████████████████| 170 kB 17.0 MB/s \n",
            "\u001b[K     |████████████████████████████████| 87 kB 5.9 MB/s \n",
            "\u001b[K     |████████████████████████████████| 269 kB 68.5 MB/s \n",
            "\u001b[?25h  Building wheel for pyyaml (setup.py) ... \u001b[?25l\u001b[?25hdone\n",
            "\u001b[31mERROR: pip's dependency resolver does not currently take into account all the packages that are installed. This behaviour is the source of the following dependency conflicts.\n",
            "nbclient 0.5.13 requires jupyter-client>=6.1.5, but you have jupyter-client 5.3.5 which is incompatible.\u001b[0m\n"
          ]
        }
      ]
    },
    {
      "cell_type": "code",
      "source": [
        "import margo_loader\n",
        "import my_math"
      ],
      "metadata": {
        "colab": {
          "base_uri": "https://localhost:8080/"
        },
        "id": "o3-jFebHCxQG",
        "outputId": "64f3876e-aeeb-42ec-acff-a1732ef26600"
      },
      "execution_count": 4,
      "outputs": [
        {
          "output_type": "stream",
          "name": "stdout",
          "text": [
            "This is a notebook\n"
          ]
        }
      ]
    },
    {
      "cell_type": "code",
      "source": [
        "my_math.add(3,5)"
      ],
      "metadata": {
        "colab": {
          "base_uri": "https://localhost:8080/"
        },
        "id": "LQyRfFhsC9_z",
        "outputId": "026952b5-44cb-4964-95a1-0a809567c8f6"
      },
      "execution_count": 5,
      "outputs": [
        {
          "output_type": "execute_result",
          "data": {
            "text/plain": [
              "8"
            ]
          },
          "metadata": {},
          "execution_count": 5
        }
      ]
    }
  ]
}