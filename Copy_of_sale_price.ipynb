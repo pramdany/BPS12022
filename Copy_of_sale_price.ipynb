{
  "nbformat": 4,
  "nbformat_minor": 0,
  "metadata": {
    "colab": {
      "name": "Copy of sale_price.ipynb",
      "provenance": [],
      "collapsed_sections": [],
      "include_colab_link": true
    },
    "kernelspec": {
      "name": "python3",
      "display_name": "Python 3"
    },
    "language_info": {
      "name": "python"
    }
  },
  "cells": [
    {
      "cell_type": "markdown",
      "metadata": {
        "id": "view-in-github",
        "colab_type": "text"
      },
      "source": [
        "<a href=\"https://colab.research.google.com/github/pramdany/BWTS12022/blob/Week-4/Copy_of_sale_price.ipynb\" target=\"_parent\"><img src=\"https://colab.research.google.com/assets/colab-badge.svg\" alt=\"Open In Colab\"/></a>"
      ]
    },
    {
      "cell_type": "markdown",
      "metadata": {
        "id": "cgTeiXOtSPjH"
      },
      "source": [
        "# Sales Price\n",
        "\n",
        "A local department store needs to develop a program that will computer the total price (including goods and services tax) of the item on sale when given an item's original price and discount percentage.\n",
        "\n",
        "## Tasks\n",
        "* Save to Github\n",
        "* Design Algorithm\n",
        "* Write and test the program in Python"
      ]
    },
    {
      "cell_type": "code",
      "metadata": {
        "id": "pPIN2ZcrSqdw"
      },
      "source": [
        "def cal_totalprice(originalp, discount, tax):\n",
        "  discountedprice = originalp - (originalp * discount)\n",
        "  taxamt = tax * discountedprice\n",
        "  totalprice = discountedprice + taxamt\n",
        "  \n",
        "  print('The discounted price is ' , discountedprice)\n",
        "  print('The tax amount  is ' , taxamt)\n",
        "  print('The total price is ', totalprice)\n",
        "\n",
        "  cal_totalprice(2500, 10, 7)\n"
      ],
      "execution_count": 1,
      "outputs": []
    }
  ]
}