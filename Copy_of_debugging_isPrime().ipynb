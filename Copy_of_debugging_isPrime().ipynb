{
  "nbformat": 4,
  "nbformat_minor": 0,
  "metadata": {
    "colab": {
      "name": "Copy of debugging_isPrime().ipynb",
      "provenance": [],
      "collapsed_sections": [],
      "include_colab_link": true
    },
    "kernelspec": {
      "name": "python3",
      "display_name": "Python 3"
    },
    "language_info": {
      "name": "python"
    }
  },
  "cells": [
    {
      "cell_type": "markdown",
      "metadata": {
        "id": "view-in-github",
        "colab_type": "text"
      },
      "source": [
        "<a href=\"https://colab.research.google.com/github/pramdany/BWTS12022/blob/Week-6/Copy_of_debugging_isPrime().ipynb\" target=\"_parent\"><img src=\"https://colab.research.google.com/assets/colab-badge.svg\" alt=\"Open In Colab\"/></a>"
      ]
    },
    {
      "cell_type": "markdown",
      "source": [
        "## Debug isPrime()\n",
        "What is your preferred method? Do you like using print() or prefer *pdb*?   Since mistakes in programs will happen, the important part is that you have a debugging strategy, not which tool you use.\n",
        "\n",
        "Here is a function that needs debugging. Using either print() or *pdb*, debug the following function."
      ],
      "metadata": {
        "id": "LIfoDVzKX7uK"
      }
    },
    {
      "cell_type": "code",
      "source": [
        "def isPrime(candidate):\n",
        "    if candidate <= 1:\n",
        "        return False\n",
        "    print(\"Candidate is\", candidate)\n",
        "    lower = candidate - 1\n",
        "    while lower > 1:\n",
        "        if candidate / lower == candidate // lower:\n",
        "            return False\n",
        "        lower -= 1\n",
        "\n",
        "    return True"
      ],
      "metadata": {
        "id": "YH9gDoOYvKwg"
      },
      "execution_count": 12,
      "outputs": []
    },
    {
      "cell_type": "code",
      "source": [
        "isPrime(24)"
      ],
      "metadata": {
        "colab": {
          "base_uri": "https://localhost:8080/"
        },
        "id": "e0_ZYW89xPCu",
        "outputId": "ac57bd71-cf81-47b3-fb58-201c8179d807"
      },
      "execution_count": 13,
      "outputs": [
        {
          "output_type": "stream",
          "name": "stdout",
          "text": [
            "Candidate is 24\n"
          ]
        },
        {
          "output_type": "execute_result",
          "data": {
            "text/plain": [
              "False"
            ]
          },
          "metadata": {},
          "execution_count": 13
        }
      ]
    },
    {
      "cell_type": "code",
      "source": [
        "def isPrime(candidate):\n",
        "    if candidate <= 1:\n",
        "        return False\n",
        "    breakpoint()\n",
        "    lower = candidate - 1\n",
        "\n",
        "    while lower > 1:\n",
        "        if candidate / lower == candidate // lower:\n",
        "            return False\n",
        "        lower -= 1\n",
        "\n",
        "    return True"
      ],
      "metadata": {
        "id": "hQ2c6GU-AePH"
      },
      "execution_count": 14,
      "outputs": []
    },
    {
      "cell_type": "code",
      "source": [
        "isPrime(24)"
      ],
      "metadata": {
        "colab": {
          "base_uri": "https://localhost:8080/"
        },
        "id": "moauVmECAphu",
        "outputId": "e3968c54-2052-4a17-8680-107f7a07cda5"
      },
      "execution_count": null,
      "outputs": [
        {
          "output_type": "stream",
          "name": "stderr",
          "text": [
            "\n",
            "PYDEV DEBUGGER WARNING:\n",
            "sys.settrace() should not be used when the debugger is being used.\n",
            "This may cause the debugger to stop working correctly.\n",
            "If this is needed, please check: \n",
            "http://pydev.blogspot.com/2007/06/why-cant-pydev-debugger-work-with.html\n",
            "to see how to restore the debug tracing back correctly.\n",
            "Call Location:\n",
            "  File \"/usr/lib/python3.7/bdb.py\", line 332, in set_trace\n",
            "    sys.settrace(self.trace_dispatch)\n",
            "\n"
          ]
        },
        {
          "output_type": "stream",
          "name": "stdout",
          "text": [
            "> <ipython-input-14-735d2c1d1ac1>(5)isPrime()\n",
            "-> lower = candidate - 1\n",
            "(Pdb) candidate\n",
            "24\n",
            "(Pdb) lower\n",
            "*** NameError: name 'lower' is not defined\n",
            "(Pdb) n\n",
            "> <ipython-input-14-735d2c1d1ac1>(7)isPrime()\n",
            "-> while lower > 1:\n",
            "(Pdb) lower\n",
            "23\n",
            "(Pdb) n\n",
            "> <ipython-input-14-735d2c1d1ac1>(8)isPrime()\n",
            "-> if candidate / lower == candidate // lower:\n",
            "(Pdb) candidate\n",
            "24\n",
            "(Pdb) n\n",
            "> <ipython-input-14-735d2c1d1ac1>(10)isPrime()\n",
            "-> lower -= 1\n",
            "(Pdb) lower\n",
            "23\n",
            "(Pdb) candidate\n",
            "24\n",
            "(Pdb) n\n",
            "> <ipython-input-14-735d2c1d1ac1>(7)isPrime()\n",
            "-> while lower > 1:\n",
            "--KeyboardInterrupt--\n",
            "(Pdb) r\n",
            "--Return--\n",
            "> <ipython-input-14-735d2c1d1ac1>(9)isPrime()->False\n",
            "-> return False\n"
          ]
        }
      ]
    }
  ]
}