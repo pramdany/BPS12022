{
  "nbformat": 4,
  "nbformat_minor": 0,
  "metadata": {
    "colab": {
      "name": "coci16c1p1.ipynb",
      "provenance": [],
      "collapsed_sections": [],
      "authorship_tag": "ABX9TyPLyKuKc7h6/PMTnttNfH9y",
      "include_colab_link": true
    },
    "kernelspec": {
      "name": "python3",
      "display_name": "Python 3"
    },
    "language_info": {
      "name": "python"
    }
  },
  "cells": [
    {
      "cell_type": "markdown",
      "metadata": {
        "id": "view-in-github",
        "colab_type": "text"
      },
      "source": [
        "<a href=\"https://colab.research.google.com/github/pramdany/BWTS12022/blob/Week-5/coci16c1p1.ipynb\" target=\"_parent\"><img src=\"https://colab.research.google.com/assets/colab-badge.svg\" alt=\"Open In Colab\"/></a>"
      ]
    },
    {
      "cell_type": "code",
      "execution_count": 8,
      "metadata": {
        "colab": {
          "base_uri": "https://localhost:8080/"
        },
        "id": "5AJa6RGUHnxw",
        "outputId": "662035aa-cab1-444e-ea8f-a0e27e4faa38"
      },
      "outputs": [
        {
          "output_type": "stream",
          "name": "stdout",
          "text": [
            "Enter the amount of megabyte  10\n",
            "Please enter the number of month 3\n",
            "Enter the amount of megabyte used 6\n",
            "Enter the amount of megabyte used 10\n",
            "Enter the amount of megabyte used 26\n",
            "The total amount of mb is  -2\n"
          ]
        }
      ],
      "source": [
        "monthly_mb = int(input(\"Enter the amount of megabyte  \"))\n",
        "no_month = int(input(\"Please enter the number of month \"))\n",
        "\n",
        "total = monthly_mb * (no_month + 1)\n",
        "\n",
        "for i in range(no_month):\n",
        "  mb_used = int(input(\"Enter the amount of megabyte used \"))\n",
        "  total = total - mb_used\n",
        " \n",
        "\n",
        "print(\"The total amount of mb is \", total)"
      ]
    }
  ]
}